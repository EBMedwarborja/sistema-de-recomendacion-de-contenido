{
 "cells": [
  {
   "cell_type": "markdown",
   "metadata": {},
   "source": [
    "Este notebook tiene como objetivo procesar y preparar los datos para el desarrollo de un sistema de recomendación de películas, se trabajará en la limpieza del dataset credits.\n",
    "\n",
    "Descripción del archivo credits.csv\n",
    "\n",
    "El archivo credits.csv contiene información sobre el reparto y el equipo de producción de diversas películas. Se compone de las siguientes columnas:\n",
    "\n",
    "    id: Identificador único de la película.\n",
    "\n",
    "    cast: Lista en formato JSON con detalles de los actores, incluyendo su nombre, personaje interpretado, y otros datos.\n",
    "\n",
    "    crew: Lista en formato JSON con detalles del equipo de producción, como el director, guionista y otros miembros clave.\n",
    "\n",
    "⚙️ Proceso a realizar:\n",
    "1️⃣ Cargar y visualizar la información del dataset.\n",
    "2️⃣ Separar el DataFrame en dos archivos: uno con cast y otro con crew.\n",
    "3️⃣ Reducir el tamaño eliminando el 40% de los registros.\n",
    "se eliminaran estos registros por limitaciones de memoria \n",
    "4️⃣ Exportar los nuevos archivos en un formato más eficiente (Parquet).\n"
   ]
  },
  {
   "cell_type": "code",
   "execution_count": null,
   "metadata": {},
   "outputs": [],
   "source": [
    "import pandas as pd # type: ignore\n",
    "import json\n",
    "import os"
   ]
  },
  {
   "cell_type": "code",
   "execution_count": 2,
   "metadata": {},
   "outputs": [],
   "source": [
    "\n",
    "# Cargar el archivo CSV\n",
    "file_path = r\"C:\\Users\\E B M\\Documents\\proyecto_mp\\dataset_org\\credits.csv\"\n",
    "credits_df = pd.read_csv(file_path)"
   ]
  },
  {
   "cell_type": "code",
   "execution_count": 3,
   "metadata": {},
   "outputs": [
    {
     "name": "stdout",
     "output_type": "stream",
     "text": [
      "\n",
      " Información general del DataFrame:\n",
      "<class 'pandas.core.frame.DataFrame'>\n",
      "RangeIndex: 45476 entries, 0 to 45475\n",
      "Data columns (total 3 columns):\n",
      " #   Column  Non-Null Count  Dtype \n",
      "---  ------  --------------  ----- \n",
      " 0   cast    45476 non-null  object\n",
      " 1   crew    45476 non-null  object\n",
      " 2   id      45476 non-null  int64 \n",
      "dtypes: int64(1), object(2)\n",
      "memory usage: 1.0+ MB\n",
      "None\n"
     ]
    }
   ],
   "source": [
    "\n",
    "#  Mostrar información general del DataFrame\n",
    "print(\"\\n Información general del DataFrame:\")\n",
    "print(credits_df.info())"
   ]
  },
  {
   "cell_type": "code",
   "execution_count": 4,
   "metadata": {},
   "outputs": [
    {
     "name": "stdout",
     "output_type": "stream",
     "text": [
      "\n",
      " Primeras 5 filas del DataFrame:\n",
      "                                                cast  \\\n",
      "0  [{'cast_id': 14, 'character': 'Woody (voice)',...   \n",
      "1  [{'cast_id': 1, 'character': 'Alan Parrish', '...   \n",
      "2  [{'cast_id': 2, 'character': 'Max Goldman', 'c...   \n",
      "3  [{'cast_id': 1, 'character': \"Savannah 'Vannah...   \n",
      "4  [{'cast_id': 1, 'character': 'George Banks', '...   \n",
      "\n",
      "                                                crew     id  \n",
      "0  [{'credit_id': '52fe4284c3a36847f8024f49', 'de...    862  \n",
      "1  [{'credit_id': '52fe44bfc3a36847f80a7cd1', 'de...   8844  \n",
      "2  [{'credit_id': '52fe466a9251416c75077a89', 'de...  15602  \n",
      "3  [{'credit_id': '52fe44779251416c91011acb', 'de...  31357  \n",
      "4  [{'credit_id': '52fe44959251416c75039ed7', 'de...  11862  \n"
     ]
    }
   ],
   "source": [
    "#  Mostrar las primeras filas del DataFrame\n",
    "print(\"\\n Primeras 5 filas del DataFrame:\")\n",
    "print(credits_df.head())\n",
    "\n"
   ]
  },
  {
   "cell_type": "code",
   "execution_count": 5,
   "metadata": {},
   "outputs": [
    {
     "name": "stdout",
     "output_type": "stream",
     "text": [
      "\n",
      " Valores nulos por columna:\n",
      "cast    0\n",
      "crew    0\n",
      "id      0\n",
      "dtype: int64\n"
     ]
    }
   ],
   "source": [
    "#  Verificar valores nulos\n",
    "print(\"\\n Valores nulos por columna:\")\n",
    "print(credits_df.isnull().sum())\n",
    "\n"
   ]
  },
  {
   "cell_type": "code",
   "execution_count": 6,
   "metadata": {},
   "outputs": [
    {
     "name": "stdout",
     "output_type": "stream",
     "text": [
      "\n",
      " Tipos de datos de cada columna:\n",
      "cast    object\n",
      "crew    object\n",
      "id       int64\n",
      "dtype: object\n"
     ]
    }
   ],
   "source": [
    "#  Tipos de datos de cada columna\n",
    "print(\"\\n Tipos de datos de cada columna:\")\n",
    "print(credits_df.dtypes)\n",
    "\n"
   ]
  },
  {
   "cell_type": "code",
   "execution_count": 7,
   "metadata": {},
   "outputs": [
    {
     "name": "stdout",
     "output_type": "stream",
     "text": [
      "\n",
      " Estadísticas generales (columnas numéricas):\n",
      "                  id\n",
      "count   45476.000000\n",
      "mean   108345.997537\n",
      "std    112443.796536\n",
      "min         2.000000\n",
      "25%     26443.250000\n",
      "50%     60002.500000\n",
      "75%    157302.000000\n",
      "max    469172.000000\n"
     ]
    }
   ],
   "source": [
    "#  Estadísticas generales (para columnas numéricas)\n",
    "print(\"\\n Estadísticas generales (columnas numéricas):\")\n",
    "print(credits_df.describe())\n",
    "\n"
   ]
  },
  {
   "cell_type": "code",
   "execution_count": 8,
   "metadata": {},
   "outputs": [
    {
     "name": "stdout",
     "output_type": "stream",
     "text": [
      "\n",
      " Ejemplo de valores en la columna 'cast':\n",
      "0    [{'cast_id': 14, 'character': 'Woody (voice)',...\n",
      "1    [{'cast_id': 1, 'character': 'Alan Parrish', '...\n",
      "2    [{'cast_id': 2, 'character': 'Max Goldman', 'c...\n",
      "3    [{'cast_id': 1, 'character': \"Savannah 'Vannah...\n",
      "4    [{'cast_id': 1, 'character': 'George Banks', '...\n",
      "Name: cast, dtype: object\n",
      "\n",
      " Ejemplo de valores en la columna 'crew':\n",
      "0    [{'credit_id': '52fe4284c3a36847f8024f49', 'de...\n",
      "1    [{'credit_id': '52fe44bfc3a36847f80a7cd1', 'de...\n",
      "2    [{'credit_id': '52fe466a9251416c75077a89', 'de...\n",
      "3    [{'credit_id': '52fe44779251416c91011acb', 'de...\n",
      "4    [{'credit_id': '52fe44959251416c75039ed7', 'de...\n",
      "Name: crew, dtype: object\n"
     ]
    }
   ],
   "source": [
    "#  Visualizar algunas filas de las columnas 'cast' y 'crew'\n",
    "print(\"\\n Ejemplo de valores en la columna 'cast':\")\n",
    "print(credits_df['cast'].head(5))\n",
    "\n",
    "print(\"\\n Ejemplo de valores en la columna 'crew':\")\n",
    "print(credits_df['crew'].head(5))"
   ]
  },
  {
   "cell_type": "markdown",
   "metadata": {},
   "source": [
    "Vamos a crear dos DataFrames, uno para el reparto (cast) y otro para el equipo de producción (crew):"
   ]
  },
  {
   "cell_type": "code",
   "execution_count": 9,
   "metadata": {},
   "outputs": [
    {
     "name": "stdout",
     "output_type": "stream",
     "text": [
      "\n",
      " DataFrame de Cast:\n",
      "<class 'pandas.core.frame.DataFrame'>\n",
      "RangeIndex: 45476 entries, 0 to 45475\n",
      "Data columns (total 2 columns):\n",
      " #   Column  Non-Null Count  Dtype \n",
      "---  ------  --------------  ----- \n",
      " 0   id      45476 non-null  int64 \n",
      " 1   cast    45476 non-null  object\n",
      "dtypes: int64(1), object(1)\n",
      "memory usage: 710.7+ KB\n",
      "None\n",
      "\n",
      " DataFrame de Crew:\n",
      "<class 'pandas.core.frame.DataFrame'>\n",
      "RangeIndex: 45476 entries, 0 to 45475\n",
      "Data columns (total 2 columns):\n",
      " #   Column  Non-Null Count  Dtype \n",
      "---  ------  --------------  ----- \n",
      " 0   id      45476 non-null  int64 \n",
      " 1   crew    45476 non-null  object\n",
      "dtypes: int64(1), object(1)\n",
      "memory usage: 710.7+ KB\n",
      "None\n"
     ]
    }
   ],
   "source": [
    "# Crear DataFrame para el reparto (cast)\n",
    "cast_df = credits_df[['id', 'cast']].copy()\n",
    "\n",
    "# Crear DataFrame para el equipo de producción (crew)\n",
    "crew_df = credits_df[['id', 'crew']].copy()\n",
    "\n",
    "# Mostrar información después de la separación\n",
    "print(\"\\n DataFrame de Cast:\")\n",
    "print(cast_df.info())\n",
    "\n",
    "print(\"\\n DataFrame de Crew:\")\n",
    "print(crew_df.info())\n"
   ]
  },
  {
   "cell_type": "markdown",
   "metadata": {},
   "source": [
    "Reducir el tamaño el 40% de los registros Para optimizar la memoria"
   ]
  },
  {
   "cell_type": "code",
   "execution_count": 10,
   "metadata": {},
   "outputs": [
    {
     "name": "stdout",
     "output_type": "stream",
     "text": [
      "\n",
      "🔹 Registros en cast después de la reducción: 27286\n",
      "\n",
      "🔹 Registros en crew después de la reducción: 27286\n"
     ]
    }
   ],
   "source": [
    "# Reducir el 40% de los registros de cada DataFrame\n",
    "cast_df = cast_df.sample(frac=0.6, random_state=42).reset_index(drop=True)\n",
    "crew_df = crew_df.sample(frac=0.6, random_state=42).reset_index(drop=True)\n",
    "\n",
    "# Mostrar la cantidad de registros después de la reducción\n",
    "print(f\"\\n🔹 Registros en cast después de la reducción: {cast_df.shape[0]}\")\n",
    "print(f\"\\n🔹 Registros en crew después de la reducción: {crew_df.shape[0]}\")\n"
   ]
  },
  {
   "cell_type": "markdown",
   "metadata": {},
   "source": [
    "\n",
    "\n",
    "Finalmente, guardaremos los datos en la carpeta dataset_limpio en formato Parquet, que es más eficiente en almacenamiento y velocidad."
   ]
  },
  {
   "cell_type": "code",
   "execution_count": 14,
   "metadata": {},
   "outputs": [
    {
     "name": "stdout",
     "output_type": "stream",
     "text": [
      "Archivos exportados en: C:\\Users\\E B M\\Documents\\proyecto_mp\\dataset_limpio\n",
      " - Cast: C:\\Users\\E B M\\Documents\\proyecto_mp\\dataset_limpio\\cast.parquet\n",
      " - Crew: C:\\Users\\E B M\\Documents\\proyecto_mp\\dataset_limpio\\crew.parquet\n"
     ]
    }
   ],
   "source": [
    "\n",
    "# Ruta de exportación\n",
    "export_path = r\"C:\\Users\\E B M\\Documents\\proyecto_mp\\dataset_limpio\"\n",
    "os.makedirs(export_path, exist_ok=True)\n",
    "\n",
    "# Definir rutas de los archivos\n",
    "cast_file = os.path.join(export_path, \"cast.parquet\")\n",
    "crew_file = os.path.join(export_path, \"crew.parquet\")\n",
    "\n",
    "# Guardar en formato Parquet\n",
    "cast_df.to_parquet(cast_file, index=False)\n",
    "crew_df.to_parquet(crew_file, index=False)\n",
    "\n",
    "print(f\"Archivos exportados en: {export_path}\")\n",
    "print(f\" - Cast: {cast_file}\")\n",
    "print(f\" - Crew: {crew_file}\")\n"
   ]
  },
  {
   "cell_type": "code",
   "execution_count": null,
   "metadata": {},
   "outputs": [],
   "source": []
  }
 ],
 "metadata": {
  "kernelspec": {
   "display_name": "env",
   "language": "python",
   "name": "python3"
  },
  "language_info": {
   "codemirror_mode": {
    "name": "ipython",
    "version": 3
   },
   "file_extension": ".py",
   "mimetype": "text/x-python",
   "name": "python",
   "nbconvert_exporter": "python",
   "pygments_lexer": "ipython3",
   "version": "3.13.2"
  }
 },
 "nbformat": 4,
 "nbformat_minor": 2
}

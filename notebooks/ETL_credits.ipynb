{
 "cells": [
  {
   "cell_type": "markdown",
   "metadata": {},
   "source": [
    "Este notebook tiene como objetivo procesar y preparar los datos para el desarrollo de un sistema de recomendación de películas, se trabajará en la limpieza del dataset credits.\n",
    "\n",
    "Descripción del archivo credits.csv\n",
    "\n",
    "El archivo credits.csv contiene información sobre el reparto y el equipo de producción de diversas películas. Se compone de las siguientes columnas:\n",
    "\n",
    "    id: Identificador único de la película.\n",
    "\n",
    "    cast: Lista en formato JSON con detalles de los actores, incluyendo su nombre, personaje interpretado, y otros datos.\n",
    "\n",
    "    crew: Lista en formato JSON con detalles del equipo de producción, como el director, guionista y otros miembros clave.\n",
    "\n",
    "⚙️ Proceso a realizar:\n",
    "1️⃣ Cargar y visualizar la información del dataset.\n",
    "2️⃣ Separar el DataFrame en dos archivos: uno con cast y otro con crew.\n",
    "3️⃣ Reducir el tamaño eliminando el 40% de los registros.\n",
    "se eliminaran estos registros por limitaciones de memoria \n",
    "4️⃣ Exportar los nuevos archivos en un formato más eficiente (Parquet).\n"
   ]
  },
  {
   "cell_type": "code",
   "execution_count": 25,
   "metadata": {},
   "outputs": [],
   "source": [
    "import pandas as pd # type: ignore\n",
    "import json\n",
    "import os\n",
    "import ast"
   ]
  },
  {
   "cell_type": "code",
   "execution_count": 5,
   "metadata": {},
   "outputs": [],
   "source": [
    "\n",
    "# Cargar el archivo CSV\n",
    "file_path = r\"C:\\Users\\E B M\\Documents\\proyecto_mp\\dataset_org\\credits.csv\"\n",
    "credits_df = pd.read_csv(file_path)"
   ]
  },
  {
   "cell_type": "code",
   "execution_count": 6,
   "metadata": {},
   "outputs": [
    {
     "name": "stdout",
     "output_type": "stream",
     "text": [
      "\n",
      " Información general del DataFrame:\n",
      "<class 'pandas.core.frame.DataFrame'>\n",
      "RangeIndex: 45476 entries, 0 to 45475\n",
      "Data columns (total 3 columns):\n",
      " #   Column  Non-Null Count  Dtype \n",
      "---  ------  --------------  ----- \n",
      " 0   cast    45476 non-null  object\n",
      " 1   crew    45476 non-null  object\n",
      " 2   id      45476 non-null  int64 \n",
      "dtypes: int64(1), object(2)\n",
      "memory usage: 1.0+ MB\n",
      "None\n"
     ]
    }
   ],
   "source": [
    "\n",
    "#  Mostrar información general del DataFrame\n",
    "print(\"\\n Información general del DataFrame:\")\n",
    "print(credits_df.info())"
   ]
  },
  {
   "cell_type": "code",
   "execution_count": 13,
   "metadata": {},
   "outputs": [
    {
     "name": "stdout",
     "output_type": "stream",
     "text": [
      "\n",
      " Primeras 5 filas del DataFrame:\n",
      "                                                cast  \\\n",
      "0  [{'cast_id': 14, 'character': 'Woody (voice)',...   \n",
      "1  [{'cast_id': 1, 'character': 'Alan Parrish', '...   \n",
      "2  [{'cast_id': 2, 'character': 'Max Goldman', 'c...   \n",
      "3  [{'cast_id': 1, 'character': \"Savannah 'Vannah...   \n",
      "4  [{'cast_id': 1, 'character': 'George Banks', '...   \n",
      "\n",
      "                                                crew     id  \n",
      "0  [{'credit_id': '52fe4284c3a36847f8024f49', 'de...    862  \n",
      "1  [{'credit_id': '52fe44bfc3a36847f80a7cd1', 'de...   8844  \n",
      "2  [{'credit_id': '52fe466a9251416c75077a89', 'de...  15602  \n",
      "3  [{'credit_id': '52fe44779251416c91011acb', 'de...  31357  \n",
      "4  [{'credit_id': '52fe44959251416c75039ed7', 'de...  11862  \n"
     ]
    }
   ],
   "source": [
    "#  Mostrar las primeras filas del DataFrame\n",
    "print(\"\\n Primeras 5 filas del DataFrame:\")\n",
    "print(credits_df.head())\n",
    "\n"
   ]
  },
  {
   "cell_type": "code",
   "execution_count": 14,
   "metadata": {},
   "outputs": [
    {
     "name": "stdout",
     "output_type": "stream",
     "text": [
      "\n",
      " Valores nulos por columna:\n",
      "cast    0\n",
      "crew    0\n",
      "id      0\n",
      "dtype: int64\n"
     ]
    }
   ],
   "source": [
    "#  Verificar valores nulos\n",
    "print(\"\\n Valores nulos por columna:\")\n",
    "print(credits_df.isnull().sum())\n",
    "\n"
   ]
  },
  {
   "cell_type": "code",
   "execution_count": 15,
   "metadata": {},
   "outputs": [
    {
     "name": "stdout",
     "output_type": "stream",
     "text": [
      "\n",
      " Tipos de datos de cada columna:\n",
      "cast    object\n",
      "crew    object\n",
      "id       int64\n",
      "dtype: object\n"
     ]
    }
   ],
   "source": [
    "#  Tipos de datos de cada columna\n",
    "print(\"\\n Tipos de datos de cada columna:\")\n",
    "print(credits_df.dtypes)\n",
    "\n"
   ]
  },
  {
   "cell_type": "code",
   "execution_count": 16,
   "metadata": {},
   "outputs": [
    {
     "name": "stdout",
     "output_type": "stream",
     "text": [
      "\n",
      " Estadísticas generales (columnas numéricas):\n",
      "                  id\n",
      "count   45476.000000\n",
      "mean   108345.997537\n",
      "std    112443.796536\n",
      "min         2.000000\n",
      "25%     26443.250000\n",
      "50%     60002.500000\n",
      "75%    157302.000000\n",
      "max    469172.000000\n"
     ]
    }
   ],
   "source": [
    "#  Estadísticas generales (para columnas numéricas)\n",
    "print(\"\\n Estadísticas generales (columnas numéricas):\")\n",
    "print(credits_df.describe())\n",
    "\n"
   ]
  },
  {
   "cell_type": "code",
   "execution_count": 19,
   "metadata": {},
   "outputs": [
    {
     "name": "stdout",
     "output_type": "stream",
     "text": [
      "\n",
      " Ejemplo de valores en la columna 'cast':\n",
      "0    [{'cast_id': 14, 'character': 'Woody (voice)',...\n",
      "1    [{'cast_id': 1, 'character': 'Alan Parrish', '...\n",
      "2    [{'cast_id': 2, 'character': 'Max Goldman', 'c...\n",
      "3    [{'cast_id': 1, 'character': \"Savannah 'Vannah...\n",
      "4    [{'cast_id': 1, 'character': 'George Banks', '...\n",
      "Name: cast, dtype: object\n",
      "\n",
      " Ejemplo de valores en la columna 'crew':\n",
      "0    [{'credit_id': '52fe4284c3a36847f8024f49', 'de...\n",
      "1    [{'credit_id': '52fe44bfc3a36847f80a7cd1', 'de...\n",
      "2    [{'credit_id': '52fe466a9251416c75077a89', 'de...\n",
      "3    [{'credit_id': '52fe44779251416c91011acb', 'de...\n",
      "4    [{'credit_id': '52fe44959251416c75039ed7', 'de...\n",
      "Name: crew, dtype: object\n"
     ]
    }
   ],
   "source": [
    "#  Visualizar algunas filas de las columnas 'cast' y 'crew'\n",
    "print(\"\\n Ejemplo de valores en la columna 'cast':\")\n",
    "print(credits_df['cast'].head(5))\n",
    "\n",
    "print(\"\\n Ejemplo de valores en la columna 'crew':\")\n",
    "print(credits_df['crew'].head(5))"
   ]
  },
  {
   "cell_type": "markdown",
   "metadata": {},
   "source": [
    "Vamos a crear dos DataFrames, uno para el reparto (cast) y otro para el equipo de producción (crew):"
   ]
  },
  {
   "cell_type": "code",
   "execution_count": null,
   "metadata": {},
   "outputs": [],
   "source": [
    "\n"
   ]
  },
  {
   "cell_type": "code",
   "execution_count": 20,
   "metadata": {},
   "outputs": [
    {
     "name": "stdout",
     "output_type": "stream",
     "text": [
      "\n",
      " DataFrame de Cast:\n",
      "<class 'pandas.core.frame.DataFrame'>\n",
      "RangeIndex: 45476 entries, 0 to 45475\n",
      "Data columns (total 2 columns):\n",
      " #   Column  Non-Null Count  Dtype \n",
      "---  ------  --------------  ----- \n",
      " 0   id      45476 non-null  int64 \n",
      " 1   cast    45476 non-null  object\n",
      "dtypes: int64(1), object(1)\n",
      "memory usage: 710.7+ KB\n",
      "None\n",
      "\n",
      " DataFrame de Crew:\n",
      "<class 'pandas.core.frame.DataFrame'>\n",
      "RangeIndex: 45476 entries, 0 to 45475\n",
      "Data columns (total 2 columns):\n",
      " #   Column  Non-Null Count  Dtype \n",
      "---  ------  --------------  ----- \n",
      " 0   id      45476 non-null  int64 \n",
      " 1   crew    45476 non-null  object\n",
      "dtypes: int64(1), object(1)\n",
      "memory usage: 710.7+ KB\n",
      "None\n"
     ]
    }
   ],
   "source": [
    "# Crear DataFrame para el reparto (cast)\n",
    "cast_df = credits_df[['id', 'cast']].copy()\n",
    "\n",
    "# Crear DataFrame para el equipo de producción (crew)\n",
    "crew_df = credits_df[['id', 'crew']].copy()\n",
    "\n",
    "# Mostrar información después de la separación\n",
    "print(\"\\n DataFrame de Cast:\")\n",
    "print(cast_df.info())\n",
    "\n",
    "print(\"\\n DataFrame de Crew:\")\n",
    "print(crew_df.info())\n"
   ]
  },
  {
   "cell_type": "markdown",
   "metadata": {},
   "source": [
    "Reducir el tamaño el 40% de los registros Para optimizar la memoria"
   ]
  },
  {
   "cell_type": "code",
   "execution_count": 21,
   "metadata": {},
   "outputs": [
    {
     "name": "stdout",
     "output_type": "stream",
     "text": [
      "\n",
      "🔹 Registros en cast después de la reducción: 27286\n",
      "\n",
      "🔹 Registros en crew después de la reducción: 27286\n"
     ]
    }
   ],
   "source": [
    "# Reducir el 40% de los registros de cada DataFrame\n",
    "cast_df = cast_df.sample(frac=0.6, random_state=42).reset_index(drop=True)\n",
    "crew_df = crew_df.sample(frac=0.6, random_state=42).reset_index(drop=True)\n",
    "\n",
    "# Mostrar la cantidad de registros después de la reducción\n",
    "print(f\"\\n🔹 Registros en cast después de la reducción: {cast_df.shape[0]}\")\n",
    "print(f\"\\n🔹 Registros en crew después de la reducción: {crew_df.shape[0]}\")\n"
   ]
  },
  {
   "cell_type": "markdown",
   "metadata": {},
   "source": [
    "\n",
    "luego desanidar los datos de los DataFrames crew_df y cast_df, que contienen información en formato de listas dentro de una columna. Primero, se identificará la estructura de estos datos para asegurarse de que sean listas de diccionarios. Luego, se usará explode() para separar cada elemento en filas individuales y pd.json_normalize() para extraer los atributos clave, como name, job y department en crew_df, y name, character y gender en cast_df. Finalmente, se añadirá la columna movie_id para mantener la relación con las películas, permitiendo un análisis más estructurado y eficiente."
   ]
  },
  {
   "cell_type": "code",
   "execution_count": 27,
   "metadata": {},
   "outputs": [
    {
     "name": "stdout",
     "output_type": "stream",
     "text": [
      "                  credit_id  department  gender       id                job  \\\n",
      "0  5630aa66c3a3681b5c00f74e  Production     2.0   7415.0            Casting   \n",
      "1  52fe45c4c3a36847f80d9623     Writing     2.0  15244.0             Writer   \n",
      "2  5630aac6c3a3681b5c00f759         Art     0.0  20777.0  Production Design   \n",
      "3  5630a9f6c3a3681b4b00ea46  Production     2.0  43673.0           Producer   \n",
      "4  5630aa0b9251414ab700d927       Sound     2.0  38309.0              Music   \n",
      "\n",
      "               name                      profile_path  \n",
      "0   Rick Montgomery                              None  \n",
      "1      Ehren Kruger  /3aC4aA5DKv6fymluT2X6UQ1iKua.jpg  \n",
      "2  Humphrey Bangham                              None  \n",
      "3         Tom Reeve                              None  \n",
      "4     Gast Waltzing                              None  \n"
     ]
    }
   ],
   "source": [
    "# Asegurar que crew_df['crew'] es una lista de diccionarios\n",
    "crew_df['crew'] = crew_df['crew'].apply(lambda x: ast.literal_eval(x) if isinstance(x, str) else x)\n",
    "\n",
    "# Expandir la lista de diccionarios\n",
    "crew_exploded = crew_df.explode('crew')\n",
    "\n",
    "# Convertir la columna 'crew' en un DataFrame con las claves desanidadas\n",
    "crew_normalized = pd.json_normalize(crew_exploded['crew'])\n",
    "\n",
    "# Ver los primeros registros\n",
    "print(crew_normalized.head())\n"
   ]
  },
  {
   "cell_type": "code",
   "execution_count": 28,
   "metadata": {},
   "outputs": [
    {
     "name": "stdout",
     "output_type": "stream",
     "text": [
      "               id                name\n",
      "6        179616.0      Richard Spence\n",
      "14       190103.0    Alain Desrochers\n",
      "79         2000.0     Lewis Milestone\n",
      "108       32375.0     Mario Monicelli\n",
      "114       20556.0  Bertrand Tavernier\n",
      "...           ...                 ...\n",
      "281172   583745.0       Antoni Krauze\n",
      "281175   100793.0    Reginald Le Borg\n",
      "281179   114997.0         Ángel Muñiz\n",
      "281182    19093.0     George Marshall\n",
      "281188  1162038.0     Lawrie Brewster\n",
      "\n",
      "[29464 rows x 2 columns]\n"
     ]
    }
   ],
   "source": [
    "directores_df = crew_normalized[crew_normalized['job'] == \"Director\"]\n",
    "print(directores_df[['id', 'name']])  # Muestra ID y nombre del director\n"
   ]
  },
  {
   "cell_type": "code",
   "execution_count": 29,
   "metadata": {},
   "outputs": [
    {
     "name": "stdout",
     "output_type": "stream",
     "text": [
      "   cast_id               character                 credit_id  gender  \\\n",
      "0      4.0              David Marx  52fe45c4c3a36847f80d9627     2.0   \n",
      "1      5.0             Kurt Bishop  52fe45c4c3a36847f80d962b     2.0   \n",
      "2      6.0            Kris Paddock  52fe45c4c3a36847f80d962f     1.0   \n",
      "3      7.0               Mark Ohai  52fe45c4c3a36847f80d9633     0.0   \n",
      "4      1.0  Eduardo 'Eddie' Deacon  59379a76c3a36827dd0009be     2.0   \n",
      "\n",
      "         id              name  order                      profile_path  \n",
      "0     585.0      Rutger Hauer    0.0  /2x1S2VAUvZXZuDjZ4E9iEKINvNu.jpg  \n",
      "1   37041.0   Andrew McCarthy    1.0  /bn6djJHhLF6dTIz5H3UvuCFoeLm.jpg  \n",
      "2   47615.0   Tara Fitzgerald    2.0  /qpS1nff6LgwbWXzS14qsmW6YIOi.jpg  \n",
      "3  202939.0      Hari Dhillon    3.0  /mzlWa84jhQNjvgHAqtnMxl03yUK.jpg  \n",
      "4    3131.0  Antonio Banderas    0.0  /85197jARsr06xQ84NhP9YoBL3sR.jpg  \n"
     ]
    }
   ],
   "source": [
    "# Asegurar que cast_df['cast'] es una lista de diccionarios\n",
    "cast_df['cast'] = cast_df['cast'].apply(lambda x: ast.literal_eval(x) if isinstance(x, str) else x)\n",
    "\n",
    "# Expandir la lista de diccionarios\n",
    "cast_exploded = cast_df.explode('cast')\n",
    "\n",
    "# Convertir la columna 'cast' en un DataFrame con las claves desanidadas\n",
    "cast_normalized = pd.json_normalize(cast_exploded['cast'])\n",
    "\n",
    "# Ver los primeros registros\n",
    "print(cast_normalized.head())"
   ]
  },
  {
   "cell_type": "code",
   "execution_count": 30,
   "metadata": {},
   "outputs": [
    {
     "name": "stdout",
     "output_type": "stream",
     "text": [
      "         id              name               character  gender\n",
      "0     585.0      Rutger Hauer              David Marx     2.0\n",
      "1   37041.0   Andrew McCarthy             Kurt Bishop     2.0\n",
      "2   47615.0   Tara Fitzgerald            Kris Paddock     1.0\n",
      "3  202939.0      Hari Dhillon               Mark Ohai     0.0\n",
      "4    3131.0  Antonio Banderas  Eduardo 'Eddie' Deacon     2.0\n"
     ]
    }
   ],
   "source": [
    "cast_final = cast_normalized[['id', 'name', 'character', 'gender']]\n",
    "print(cast_final.head())\n"
   ]
  },
  {
   "cell_type": "markdown",
   "metadata": {},
   "source": [
    "Y finalmente, voy a exportar los DataFrames cast_df y crew_df en formato Parquet para optimizar su almacenamiento y procesamiento. Me aseguro de que la carpeta de destino dataset_limpio exista, y luego guardo cada DataFrame en su respectivo archivo (cast.parquet y crew.parquet). De esta manera, los datos quedan organizados y listos para ser utilizados en futuras consultas o análisis."
   ]
  },
  {
   "cell_type": "code",
   "execution_count": 31,
   "metadata": {},
   "outputs": [
    {
     "name": "stdout",
     "output_type": "stream",
     "text": [
      "Archivos exportados en: C:\\Users\\E B M\\Documents\\proyecto_mp\\dataset_limpio\n",
      " - Cast: C:\\Users\\E B M\\Documents\\proyecto_mp\\dataset_limpio\\cast.parquet\n",
      " - Crew: C:\\Users\\E B M\\Documents\\proyecto_mp\\dataset_limpio\\crew.parquet\n"
     ]
    }
   ],
   "source": [
    "\n",
    "# Ruta de exportación\n",
    "export_path = r\"C:\\Users\\E B M\\Documents\\proyecto_mp\\dataset_limpio\"\n",
    "os.makedirs(export_path, exist_ok=True)\n",
    "\n",
    "# Definir rutas de los archivos\n",
    "cast_file = os.path.join(export_path, \"cast.parquet\")\n",
    "crew_file = os.path.join(export_path, \"crew.parquet\")\n",
    "\n",
    "# Guardar en formato Parquet los DataFrames procesados\n",
    "cast_normalized.to_parquet(cast_file, index=False)\n",
    "crew_normalized.to_parquet(crew_file, index=False)\n",
    "\n",
    "print(f\"Archivos exportados en: {export_path}\")\n",
    "print(f\" - Cast: {cast_file}\")\n",
    "print(f\" - Crew: {crew_file}\")\n"
   ]
  },
  {
   "cell_type": "code",
   "execution_count": null,
   "metadata": {},
   "outputs": [],
   "source": []
  },
  {
   "cell_type": "code",
   "execution_count": null,
   "metadata": {},
   "outputs": [],
   "source": []
  }
 ],
 "metadata": {
  "kernelspec": {
   "display_name": "env",
   "language": "python",
   "name": "python3"
  },
  "language_info": {
   "codemirror_mode": {
    "name": "ipython",
    "version": 3
   },
   "file_extension": ".py",
   "mimetype": "text/x-python",
   "name": "python",
   "nbconvert_exporter": "python",
   "pygments_lexer": "ipython3",
   "version": "3.13.2"
  }
 },
 "nbformat": 4,
 "nbformat_minor": 2
}

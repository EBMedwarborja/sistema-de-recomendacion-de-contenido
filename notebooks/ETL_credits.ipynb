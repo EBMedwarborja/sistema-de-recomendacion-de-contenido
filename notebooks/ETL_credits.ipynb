{
 "cells": [
  {
   "cell_type": "markdown",
   "metadata": {},
   "source": [
    "Este notebook tiene como objetivo procesar y preparar los datos para el desarrollo de un sistema de recomendación de películas, se trabajará en la limpieza del dataset credits.\n",
    "\n",
    "Descripción del archivo credits.csv\n",
    "\n",
    "El archivo credits.csv contiene información sobre el reparto y el equipo de producción de diversas películas. Se compone de las siguientes columnas:\n",
    "\n",
    "    id: Identificador único de la película.\n",
    "\n",
    "    cast: Lista en formato JSON con detalles de los actores, incluyendo su nombre, personaje interpretado, y otros datos.\n",
    "\n",
    "    crew: Lista en formato JSON con detalles del equipo de producción, como el director, guionista y otros miembros clave.\n",
    "\n",
    "⚙️ Proceso a realizar:\n",
    "1️⃣ Cargar y visualizar la información del dataset.\n",
    "2️⃣ Separar el DataFrame en dos archivos: uno con cast y otro con crew.\n",
    "3️⃣ Reducir el tamaño eliminando el 40% de los registros.\n",
    "se eliminaran estos registros por limitaciones de memoria \n",
    "4️⃣ Exportar los nuevos archivos en un formato más eficiente (Parquet).\n"
   ]
  },
  {
   "cell_type": "code",
   "execution_count": 2,
   "metadata": {},
   "outputs": [],
   "source": [
    "import pandas as pd # type: ignore\n",
    "import json\n",
    "import os\n",
    "import ast"
   ]
  },
  {
   "cell_type": "code",
   "execution_count": 4,
   "metadata": {},
   "outputs": [],
   "source": [
    "\n",
    "# Cargar el archivo CSV\n",
    "file_path = r\"C:\\Users\\E B M\\Documents\\proyecto_mp\\dataset_org\\credits.csv\"\n",
    "credits_df = pd.read_csv(file_path)"
   ]
  },
  {
   "cell_type": "code",
   "execution_count": 8,
   "metadata": {},
   "outputs": [
    {
     "name": "stdout",
     "output_type": "stream",
     "text": [
      "\n",
      " Información general del DataFrame:\n",
      "<class 'pandas.core.frame.DataFrame'>\n",
      "RangeIndex: 45476 entries, 0 to 45475\n",
      "Data columns (total 3 columns):\n",
      " #   Column  Non-Null Count  Dtype \n",
      "---  ------  --------------  ----- \n",
      " 0   cast    45476 non-null  object\n",
      " 1   crew    45476 non-null  object\n",
      " 2   id      45476 non-null  int64 \n",
      "dtypes: int64(1), object(2)\n",
      "memory usage: 1.0+ MB\n",
      "None\n"
     ]
    }
   ],
   "source": [
    "\n",
    "#  Mostrar información general del DataFrame\n",
    "print(\"\\n Información general del DataFrame:\")\n",
    "print(credits_df.info())"
   ]
  },
  {
   "cell_type": "code",
   "execution_count": 9,
   "metadata": {},
   "outputs": [
    {
     "name": "stdout",
     "output_type": "stream",
     "text": [
      "\n",
      " Primeras 5 filas del DataFrame:\n",
      "                                                cast  \\\n",
      "0  [{'cast_id': 14, 'character': 'Woody (voice)',...   \n",
      "1  [{'cast_id': 1, 'character': 'Alan Parrish', '...   \n",
      "2  [{'cast_id': 2, 'character': 'Max Goldman', 'c...   \n",
      "3  [{'cast_id': 1, 'character': \"Savannah 'Vannah...   \n",
      "4  [{'cast_id': 1, 'character': 'George Banks', '...   \n",
      "\n",
      "                                                crew     id  \n",
      "0  [{'credit_id': '52fe4284c3a36847f8024f49', 'de...    862  \n",
      "1  [{'credit_id': '52fe44bfc3a36847f80a7cd1', 'de...   8844  \n",
      "2  [{'credit_id': '52fe466a9251416c75077a89', 'de...  15602  \n",
      "3  [{'credit_id': '52fe44779251416c91011acb', 'de...  31357  \n",
      "4  [{'credit_id': '52fe44959251416c75039ed7', 'de...  11862  \n"
     ]
    }
   ],
   "source": [
    "#  Mostrar las primeras filas del DataFrame\n",
    "print(\"\\n Primeras 5 filas del DataFrame:\")\n",
    "print(credits_df.head())\n",
    "\n"
   ]
  },
  {
   "cell_type": "code",
   "execution_count": 14,
   "metadata": {},
   "outputs": [
    {
     "name": "stdout",
     "output_type": "stream",
     "text": [
      "\n",
      " Valores nulos por columna:\n",
      "cast    0\n",
      "crew    0\n",
      "id      0\n",
      "dtype: int64\n"
     ]
    }
   ],
   "source": [
    "#  Verificar valores nulos\n",
    "print(\"\\n Valores nulos por columna:\")\n",
    "print(credits_df.isnull().sum())\n",
    "\n"
   ]
  },
  {
   "cell_type": "code",
   "execution_count": 15,
   "metadata": {},
   "outputs": [
    {
     "name": "stdout",
     "output_type": "stream",
     "text": [
      "\n",
      " Tipos de datos de cada columna:\n",
      "cast    object\n",
      "crew    object\n",
      "id       int64\n",
      "dtype: object\n"
     ]
    }
   ],
   "source": [
    "#  Tipos de datos de cada columna\n",
    "print(\"\\n Tipos de datos de cada columna:\")\n",
    "print(credits_df.dtypes)\n",
    "\n"
   ]
  },
  {
   "cell_type": "code",
   "execution_count": 16,
   "metadata": {},
   "outputs": [
    {
     "name": "stdout",
     "output_type": "stream",
     "text": [
      "\n",
      " Estadísticas generales (columnas numéricas):\n",
      "                  id\n",
      "count   45476.000000\n",
      "mean   108345.997537\n",
      "std    112443.796536\n",
      "min         2.000000\n",
      "25%     26443.250000\n",
      "50%     60002.500000\n",
      "75%    157302.000000\n",
      "max    469172.000000\n"
     ]
    }
   ],
   "source": [
    "#  Estadísticas generales (para columnas numéricas)\n",
    "print(\"\\n Estadísticas generales (columnas numéricas):\")\n",
    "print(credits_df.describe())\n",
    "\n"
   ]
  },
  {
   "cell_type": "code",
   "execution_count": 19,
   "metadata": {},
   "outputs": [
    {
     "name": "stdout",
     "output_type": "stream",
     "text": [
      "\n",
      " Ejemplo de valores en la columna 'cast':\n",
      "0    [{'cast_id': 14, 'character': 'Woody (voice)',...\n",
      "1    [{'cast_id': 1, 'character': 'Alan Parrish', '...\n",
      "2    [{'cast_id': 2, 'character': 'Max Goldman', 'c...\n",
      "3    [{'cast_id': 1, 'character': \"Savannah 'Vannah...\n",
      "4    [{'cast_id': 1, 'character': 'George Banks', '...\n",
      "Name: cast, dtype: object\n",
      "\n",
      " Ejemplo de valores en la columna 'crew':\n",
      "0    [{'credit_id': '52fe4284c3a36847f8024f49', 'de...\n",
      "1    [{'credit_id': '52fe44bfc3a36847f80a7cd1', 'de...\n",
      "2    [{'credit_id': '52fe466a9251416c75077a89', 'de...\n",
      "3    [{'credit_id': '52fe44779251416c91011acb', 'de...\n",
      "4    [{'credit_id': '52fe44959251416c75039ed7', 'de...\n",
      "Name: crew, dtype: object\n"
     ]
    }
   ],
   "source": [
    "#  Visualizar algunas filas de las columnas 'cast' y 'crew'\n",
    "print(\"\\n Ejemplo de valores en la columna 'cast':\")\n",
    "print(credits_df['cast'].head(5))\n",
    "\n",
    "print(\"\\n Ejemplo de valores en la columna 'crew':\")\n",
    "print(credits_df['crew'].head(5))"
   ]
  },
  {
   "cell_type": "markdown",
   "metadata": {},
   "source": [
    "Vamos a crear dos DataFrames, uno para el reparto (cast) y otro para el equipo de producción (crew):"
   ]
  },
  {
   "cell_type": "code",
   "execution_count": null,
   "metadata": {},
   "outputs": [],
   "source": [
    "\n"
   ]
  },
  {
   "cell_type": "code",
   "execution_count": 16,
   "metadata": {},
   "outputs": [
    {
     "name": "stdout",
     "output_type": "stream",
     "text": [
      "\n",
      " DataFrame de Cast:\n",
      "<class 'pandas.core.frame.DataFrame'>\n",
      "RangeIndex: 45476 entries, 0 to 45475\n",
      "Data columns (total 2 columns):\n",
      " #   Column  Non-Null Count  Dtype \n",
      "---  ------  --------------  ----- \n",
      " 0   id      45476 non-null  int64 \n",
      " 1   cast    45476 non-null  object\n",
      "dtypes: int64(1), object(1)\n",
      "memory usage: 710.7+ KB\n",
      "None\n",
      "\n",
      " DataFrame de Crew:\n",
      "<class 'pandas.core.frame.DataFrame'>\n",
      "RangeIndex: 45476 entries, 0 to 45475\n",
      "Data columns (total 2 columns):\n",
      " #   Column  Non-Null Count  Dtype \n",
      "---  ------  --------------  ----- \n",
      " 0   id      45476 non-null  int64 \n",
      " 1   crew    45476 non-null  object\n",
      "dtypes: int64(1), object(1)\n",
      "memory usage: 710.7+ KB\n",
      "None\n"
     ]
    }
   ],
   "source": [
    "# Crear DataFrame para el reparto (cast)\n",
    "cast_df = credits_df[['id', 'cast']].copy()\n",
    "\n",
    "# Crear DataFrame para el equipo de producción (crew)\n",
    "crew_df = credits_df[['id', 'crew']].copy()\n",
    "\n",
    "# Mostrar información después de la separación\n",
    "print(\"\\n DataFrame de Cast:\")\n",
    "print(cast_df.info())\n",
    "\n",
    "print(\"\\n DataFrame de Crew:\")\n",
    "print(crew_df.info())\n"
   ]
  },
  {
   "cell_type": "markdown",
   "metadata": {},
   "source": [
    "Reducir el tamaño el 40% de los registros Para optimizar la memoria"
   ]
  },
  {
   "cell_type": "code",
   "execution_count": 17,
   "metadata": {},
   "outputs": [
    {
     "name": "stdout",
     "output_type": "stream",
     "text": [
      "\n",
      "🔹 Registros en cast después de la reducción: 27286\n",
      "\n",
      "🔹 Registros en crew después de la reducción: 27286\n"
     ]
    }
   ],
   "source": [
    "# Reducir el 40% de los registros de cada DataFrame\n",
    "cast_df = cast_df.sample(frac=0.6, random_state=42).reset_index(drop=True)\n",
    "crew_df = crew_df.sample(frac=0.6, random_state=42).reset_index(drop=True)\n",
    "\n",
    "# Mostrar la cantidad de registros después de la reducción\n",
    "print(f\"\\n🔹 Registros en cast después de la reducción: {cast_df.shape[0]}\")\n",
    "print(f\"\\n🔹 Registros en crew después de la reducción: {crew_df.shape[0]}\")\n"
   ]
  },
  {
   "cell_type": "markdown",
   "metadata": {},
   "source": [
    "\n",
    "luego desanidar los datos de los DataFrames crew_df y cast_df, que contienen información en formato de listas dentro de una columna. Primero, se identificará la estructura de estos datos para asegurarse de que sean listas de diccionarios. Luego, se usará explode() para separar cada elemento en filas individuales y pd.json_normalize() para extraer los atributos clave, como name, job y department en crew_df, y name, character y gender en cast_df. Finalmente, se añadirá la columna movie_id para mantener la relación con las películas, permitiendo un análisis más estructurado y eficiente."
   ]
  },
  {
   "cell_type": "code",
   "execution_count": 18,
   "metadata": {},
   "outputs": [
    {
     "name": "stdout",
     "output_type": "stream",
     "text": [
      "                       credit_id  department  gender       id  \\\n",
      "280024  52fe45719251416c9103294b   Directing       2    18907   \n",
      "54384   554934b192514104ba000597        Crew       0  1463658   \n",
      "218456  54c0c8fd9251416eae00a250         Art       0  1416801   \n",
      "188334  52fe45809251416c910349ef     Writing       2   141064   \n",
      "86837   52fe44e9c3a368484e03df25   Directing       2    56865   \n",
      "250055  56548ab59251417025004276  Production       0   237160   \n",
      "943     52fe4830c3a368484e0ed2ad   Directing       2    10439   \n",
      "174739  53083877c3a3684208001de3     Writing       0     1223   \n",
      "45909   576279f4c3a3683f1c000474        Crew       2    92336   \n",
      "98536   52fe46b3c3a36847f810d757     Editing       0    98259   \n",
      "\n",
      "                               job               name  \\\n",
      "280024                    Director      Richard Quine   \n",
      "54384                       Stunts       Hannah Betts   \n",
      "218456  Art Department Coordinator       Carrie Leigh   \n",
      "188334                      Writer      Carl Harbaugh   \n",
      "86837                     Director         Fruit Chan   \n",
      "250055                    Producer   Shigemi Sugisaki   \n",
      "943                       Director  Marshall Brickman   \n",
      "174739                      Writer          Joel Coen   \n",
      "45909               Makeup Effects      Clinton Wayne   \n",
      "98536                       Editor   Danielle Fillios   \n",
      "\n",
      "                            profile_path  \n",
      "280024  /bkCUG3gSO3XlvHjwO2FRy0cOYko.jpg  \n",
      "54384                               None  \n",
      "218456                              None  \n",
      "188334                              None  \n",
      "86837   /j1Xktbs6M6kNIwaLUps9swSEdVs.jpg  \n",
      "250055                              None  \n",
      "943     /kgFuTadgTSscJPIWuifG1pAZXf3.jpg  \n",
      "174739  /rgVaJNkZCgMarUcZuUAsVfXMWk3.jpg  \n",
      "45909                               None  \n",
      "98536                               None  \n"
     ]
    }
   ],
   "source": [
    "\n",
    "\n",
    "# Asegurar que 'crew' es una lista de diccionarios\n",
    "crew_df['crew'] = crew_df['crew'].apply(lambda x: ast.literal_eval(x) if isinstance(x, str) else x)\n",
    "\n",
    "# Expandir la lista de diccionarios\n",
    "crew_exploded = crew_df.explode('crew')\n",
    "\n",
    "# Eliminar valores nulos que pueden surgir al explotar\n",
    "crew_exploded = crew_exploded.dropna(subset=['crew'])\n",
    "\n",
    "# Convertir la columna 'crew' en un DataFrame con las claves desanidadas\n",
    "crew_normalized = pd.json_normalize(crew_exploded['crew'])\n",
    "\n",
    "# Mostrar 10 registros al azar\n",
    "print(crew_normalized.sample(10))\n",
    "\n"
   ]
  },
  {
   "cell_type": "code",
   "execution_count": 28,
   "metadata": {},
   "outputs": [
    {
     "name": "stdout",
     "output_type": "stream",
     "text": [
      "               id                name\n",
      "6        179616.0      Richard Spence\n",
      "14       190103.0    Alain Desrochers\n",
      "79         2000.0     Lewis Milestone\n",
      "108       32375.0     Mario Monicelli\n",
      "114       20556.0  Bertrand Tavernier\n",
      "...           ...                 ...\n",
      "281172   583745.0       Antoni Krauze\n",
      "281175   100793.0    Reginald Le Borg\n",
      "281179   114997.0         Ángel Muñiz\n",
      "281182    19093.0     George Marshall\n",
      "281188  1162038.0     Lawrie Brewster\n",
      "\n",
      "[29464 rows x 2 columns]\n"
     ]
    }
   ],
   "source": [
    "directores_df = crew_normalized[crew_normalized['job'] == \"Director\"]\n",
    "print(directores_df[['id', 'name']])  # Muestra ID y nombre del director\n"
   ]
  },
  {
   "cell_type": "code",
   "execution_count": 7,
   "metadata": {},
   "outputs": [
    {
     "ename": "NameError",
     "evalue": "name 'cast_df' is not defined",
     "output_type": "error",
     "traceback": [
      "\u001b[31m---------------------------------------------------------------------------\u001b[39m",
      "\u001b[31mNameError\u001b[39m                                 Traceback (most recent call last)",
      "\u001b[36mCell\u001b[39m\u001b[36m \u001b[39m\u001b[32mIn[7]\u001b[39m\u001b[32m, line 2\u001b[39m\n\u001b[32m      1\u001b[39m \u001b[38;5;66;03m# Asegurar que cast_df['cast'] es una lista de diccionarios\u001b[39;00m\n\u001b[32m----> \u001b[39m\u001b[32m2\u001b[39m cast_df[\u001b[33m'\u001b[39m\u001b[33mcast\u001b[39m\u001b[33m'\u001b[39m] = \u001b[43mcast_df\u001b[49m[\u001b[33m'\u001b[39m\u001b[33mcast\u001b[39m\u001b[33m'\u001b[39m].apply(\u001b[38;5;28;01mlambda\u001b[39;00m x: ast.literal_eval(x) \u001b[38;5;28;01mif\u001b[39;00m \u001b[38;5;28misinstance\u001b[39m(x, \u001b[38;5;28mstr\u001b[39m) \u001b[38;5;28;01melse\u001b[39;00m x)\n\u001b[32m      4\u001b[39m \u001b[38;5;66;03m# Expandir la lista de diccionarios\u001b[39;00m\n\u001b[32m      5\u001b[39m cast_exploded = cast_df.explode(\u001b[33m'\u001b[39m\u001b[33mcast\u001b[39m\u001b[33m'\u001b[39m)\n",
      "\u001b[31mNameError\u001b[39m: name 'cast_df' is not defined"
     ]
    }
   ],
   "source": [
    "# Asegurar que cast_df['cast'] es una lista de diccionarios\n",
    "cast_df['cast'] = cast_df['cast'].apply(lambda x: ast.literal_eval(x) if isinstance(x, str) else x)\n",
    "\n",
    "# Expandir la lista de diccionarios\n",
    "cast_exploded = cast_df.explode('cast')\n",
    "\n",
    "# Convertir la columna 'cast' en un DataFrame con las claves desanidadas\n",
    "cast_normalized = pd.json_normalize(cast_exploded['cast'])\n",
    "\n",
    "print(cast_normalized.sample(10, random_state=42))\n"
   ]
  },
  {
   "cell_type": "code",
   "execution_count": 6,
   "metadata": {},
   "outputs": [
    {
     "ename": "NameError",
     "evalue": "name 'cast_normalized' is not defined",
     "output_type": "error",
     "traceback": [
      "\u001b[31m---------------------------------------------------------------------------\u001b[39m",
      "\u001b[31mNameError\u001b[39m                                 Traceback (most recent call last)",
      "\u001b[36mCell\u001b[39m\u001b[36m \u001b[39m\u001b[32mIn[6]\u001b[39m\u001b[32m, line 1\u001b[39m\n\u001b[32m----> \u001b[39m\u001b[32m1\u001b[39m cast_final = \u001b[43mcast_normalized\u001b[49m[[\u001b[33m'\u001b[39m\u001b[33mid\u001b[39m\u001b[33m'\u001b[39m, \u001b[33m'\u001b[39m\u001b[33mname\u001b[39m\u001b[33m'\u001b[39m, \u001b[33m'\u001b[39m\u001b[33mcharacter\u001b[39m\u001b[33m'\u001b[39m, \u001b[33m'\u001b[39m\u001b[33mgender\u001b[39m\u001b[33m'\u001b[39m]].sample(n=\u001b[32m15\u001b[39m, random_state=\u001b[32m42\u001b[39m)\n\u001b[32m      2\u001b[39m \u001b[38;5;28mprint\u001b[39m(cast_final)\n",
      "\u001b[31mNameError\u001b[39m: name 'cast_normalized' is not defined"
     ]
    }
   ],
   "source": [
    "cast_final = cast_normalized[['id', 'name', 'character', 'gender']].sample(n=15, random_state=42)\n",
    "print(cast_final)\n"
   ]
  },
  {
   "cell_type": "markdown",
   "metadata": {},
   "source": [
    "Y finalmente, voy a exportar los DataFrames cast_df y crew_df en formato Parquet para optimizar su almacenamiento y procesamiento. Me aseguro de que la carpeta de destino dataset_limpio exista, y luego guardo cada DataFrame en su respectivo archivo (cast.parquet y crew.parquet). De esta manera, los datos quedan organizados y listos para ser utilizados en futuras consultas o análisis."
   ]
  },
  {
   "cell_type": "code",
   "execution_count": 31,
   "metadata": {},
   "outputs": [
    {
     "name": "stdout",
     "output_type": "stream",
     "text": [
      "Archivos exportados en: C:\\Users\\E B M\\Documents\\proyecto_mp\\dataset_limpio\n",
      " - Cast: C:\\Users\\E B M\\Documents\\proyecto_mp\\dataset_limpio\\cast.parquet\n",
      " - Crew: C:\\Users\\E B M\\Documents\\proyecto_mp\\dataset_limpio\\crew.parquet\n"
     ]
    }
   ],
   "source": [
    "\n",
    "# Ruta de exportación\n",
    "export_path = r\"C:\\Users\\E B M\\Documents\\proyecto_mp\\dataset_limpio\"\n",
    "os.makedirs(export_path, exist_ok=True)\n",
    "\n",
    "# Definir rutas de los archivos\n",
    "cast_file = os.path.join(export_path, \"cast.parquet\")\n",
    "crew_file = os.path.join(export_path, \"crew.parquet\")\n",
    "\n",
    "# Guardar en formato Parquet los DataFrames procesados\n",
    "cast_normalized.to_parquet(cast_file, index=False)\n",
    "crew_normalized.to_parquet(crew_file, index=False)\n",
    "\n",
    "print(f\"Archivos exportados en: {export_path}\")\n",
    "print(f\" - Cast: {cast_file}\")\n",
    "print(f\" - Crew: {crew_file}\")\n"
   ]
  },
  {
   "cell_type": "code",
   "execution_count": null,
   "metadata": {},
   "outputs": [],
   "source": []
  },
  {
   "cell_type": "code",
   "execution_count": null,
   "metadata": {},
   "outputs": [],
   "source": []
  }
 ],
 "metadata": {
  "kernelspec": {
   "display_name": "env",
   "language": "python",
   "name": "python3"
  },
  "language_info": {
   "codemirror_mode": {
    "name": "ipython",
    "version": 3
   },
   "file_extension": ".py",
   "mimetype": "text/x-python",
   "name": "python",
   "nbconvert_exporter": "python",
   "pygments_lexer": "ipython3",
   "version": "3.13.2"
  }
 },
 "nbformat": 4,
 "nbformat_minor": 2
}

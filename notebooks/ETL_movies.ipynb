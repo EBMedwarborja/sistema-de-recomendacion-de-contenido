{
 "cells": [
  {
   "cell_type": "markdown",
   "metadata": {},
   "source": [
    "El archivo movies_dataset.csv contiene información detallada sobre películas, incluyendo datos sobre su reparto (cast), equipo de producción (crew), identificadores únicos (id) y posiblemente otras características relevantes para su análisis.\n",
    "\n",
    "Cada película está representada por una fila, y las columnas pueden incluir estructuras anidadas en formato de texto JSON, lo que requiere procesamiento para extraer la información correctamente.\n",
    "\n",
    "En este notebook se realiza una limpieza y transformación del dataset de películas (movies_dataset.csv). A continuación, se detallan los pasos principales:\n",
    "\n",
    "    Carga de datos: Se lee el archivo CSV original.\n",
    "\n",
    "    Desanidación de datos: Se extraen los nombres de belongs_to_collection, production_companies y production_countries, que están almacenados como listas de diccionarios.\n",
    "\n",
    "    Manejo de valores nulos:\n",
    "\n",
    "        Se reemplazan los valores nulos en revenue y budget con 0.\n",
    "\n",
    "        Se eliminan las filas sin fecha de estreno (release_date).\n",
    "\n",
    "    Formateo de fechas:\n",
    "\n",
    "        Se convierte release_date al formato AAAA-mm-dd.\n",
    "\n",
    "        Se extrae el release_year en una nueva columna.\n",
    "\n",
    "    Cálculo del retorno de inversión: Se crea la columna return, calculando revenue / budget, asignando 0 cuando budget es 0 para evitar errores.\n",
    "\n",
    "    Eliminación de columnas innecesarias: Se eliminan video, imdb_id, adult, original_title, poster_path y homepage para optimizar el dataset.\n",
    "\n",
    "    Reducción del dataset: Se elimina aleatoriamente el 40% de los registros para reducir el tamaño y mantener consistencia con otros datasets procesados.\n",
    "\n",
    "    Exportación: El dataset limpio se guarda en formato Parquet en la carpeta dataset_limpio, mejorando el rendimiento y el almacenamiento.\n"
   ]
  },
  {
   "cell_type": "code",
   "execution_count": 2,
   "metadata": {},
   "outputs": [],
   "source": [
    "import pandas as pd\n",
    "import os\n",
    "import json\n",
    "import ast\n"
   ]
  },
  {
   "cell_type": "code",
   "execution_count": 3,
   "metadata": {},
   "outputs": [],
   "source": [
    "\n",
    "# Ruta del archivo en tu sistema local\n",
    "file_path = r\"C:\\Users\\E B M\\Documents\\proyecto_mp\\dataset_org\\movies_dataset.csv\"\n",
    "\n",
    "# Cargar el archivo\n",
    "df = pd.read_csv(file_path, low_memory=False)\n",
    "\n"
   ]
  },
  {
   "cell_type": "code",
   "execution_count": 4,
   "metadata": {},
   "outputs": [
    {
     "name": "stdout",
     "output_type": "stream",
     "text": [
      "Información general del DataFrame:\n",
      "<class 'pandas.core.frame.DataFrame'>\n",
      "RangeIndex: 45466 entries, 0 to 45465\n",
      "Data columns (total 24 columns):\n",
      " #   Column                 Non-Null Count  Dtype  \n",
      "---  ------                 --------------  -----  \n",
      " 0   adult                  45466 non-null  object \n",
      " 1   belongs_to_collection  4494 non-null   object \n",
      " 2   budget                 45466 non-null  object \n",
      " 3   genres                 45466 non-null  object \n",
      " 4   homepage               7782 non-null   object \n",
      " 5   id                     45466 non-null  object \n",
      " 6   imdb_id                45449 non-null  object \n",
      " 7   original_language      45455 non-null  object \n",
      " 8   original_title         45466 non-null  object \n",
      " 9   overview               44512 non-null  object \n",
      " 10  popularity             45461 non-null  object \n",
      " 11  poster_path            45080 non-null  object \n",
      " 12  production_companies   45463 non-null  object \n",
      " 13  production_countries   45463 non-null  object \n",
      " 14  release_date           45379 non-null  object \n",
      " 15  revenue                45460 non-null  float64\n",
      " 16  runtime                45203 non-null  float64\n",
      " 17  spoken_languages       45460 non-null  object \n",
      " 18  status                 45379 non-null  object \n",
      " 19  tagline                20412 non-null  object \n",
      " 20  title                  45460 non-null  object \n",
      " 21  video                  45460 non-null  object \n",
      " 22  vote_average           45460 non-null  float64\n",
      " 23  vote_count             45460 non-null  float64\n",
      "dtypes: float64(4), object(20)\n",
      "memory usage: 8.3+ MB\n",
      "None\n"
     ]
    }
   ],
   "source": [
    "# Mostrar información general del DataFrame\n",
    "print(\"Información general del DataFrame:\")\n",
    "print(df.info())"
   ]
  },
  {
   "cell_type": "code",
   "execution_count": 5,
   "metadata": {},
   "outputs": [
    {
     "name": "stdout",
     "output_type": "stream",
     "text": [
      "\n",
      "Primeras filas del DataFrame:\n",
      "   adult                              belongs_to_collection    budget  \\\n",
      "0  False  {'id': 10194, 'name': 'Toy Story Collection', ...  30000000   \n",
      "1  False                                                NaN  65000000   \n",
      "2  False  {'id': 119050, 'name': 'Grumpy Old Men Collect...         0   \n",
      "3  False                                                NaN  16000000   \n",
      "4  False  {'id': 96871, 'name': 'Father of the Bride Col...         0   \n",
      "\n",
      "                                              genres  \\\n",
      "0  [{'id': 16, 'name': 'Animation'}, {'id': 35, '...   \n",
      "1  [{'id': 12, 'name': 'Adventure'}, {'id': 14, '...   \n",
      "2  [{'id': 10749, 'name': 'Romance'}, {'id': 35, ...   \n",
      "3  [{'id': 35, 'name': 'Comedy'}, {'id': 18, 'nam...   \n",
      "4                     [{'id': 35, 'name': 'Comedy'}]   \n",
      "\n",
      "                               homepage     id    imdb_id original_language  \\\n",
      "0  http://toystory.disney.com/toy-story    862  tt0114709                en   \n",
      "1                                   NaN   8844  tt0113497                en   \n",
      "2                                   NaN  15602  tt0113228                en   \n",
      "3                                   NaN  31357  tt0114885                en   \n",
      "4                                   NaN  11862  tt0113041                en   \n",
      "\n",
      "                original_title  \\\n",
      "0                    Toy Story   \n",
      "1                      Jumanji   \n",
      "2             Grumpier Old Men   \n",
      "3            Waiting to Exhale   \n",
      "4  Father of the Bride Part II   \n",
      "\n",
      "                                            overview  ... release_date  \\\n",
      "0  Led by Woody, Andy's toys live happily in his ...  ...   1995-10-30   \n",
      "1  When siblings Judy and Peter discover an encha...  ...   1995-12-15   \n",
      "2  A family wedding reignites the ancient feud be...  ...   1995-12-22   \n",
      "3  Cheated on, mistreated and stepped on, the wom...  ...   1995-12-22   \n",
      "4  Just when George Banks has recovered from his ...  ...   1995-02-10   \n",
      "\n",
      "       revenue runtime                                   spoken_languages  \\\n",
      "0  373554033.0    81.0           [{'iso_639_1': 'en', 'name': 'English'}]   \n",
      "1  262797249.0   104.0  [{'iso_639_1': 'en', 'name': 'English'}, {'iso...   \n",
      "2          0.0   101.0           [{'iso_639_1': 'en', 'name': 'English'}]   \n",
      "3   81452156.0   127.0           [{'iso_639_1': 'en', 'name': 'English'}]   \n",
      "4   76578911.0   106.0           [{'iso_639_1': 'en', 'name': 'English'}]   \n",
      "\n",
      "     status                                            tagline  \\\n",
      "0  Released                                                NaN   \n",
      "1  Released          Roll the dice and unleash the excitement!   \n",
      "2  Released  Still Yelling. Still Fighting. Still Ready for...   \n",
      "3  Released  Friends are the people who let you be yourself...   \n",
      "4  Released  Just When His World Is Back To Normal... He's ...   \n",
      "\n",
      "                         title  video vote_average vote_count  \n",
      "0                    Toy Story  False          7.7     5415.0  \n",
      "1                      Jumanji  False          6.9     2413.0  \n",
      "2             Grumpier Old Men  False          6.5       92.0  \n",
      "3            Waiting to Exhale  False          6.1       34.0  \n",
      "4  Father of the Bride Part II  False          5.7      173.0  \n",
      "\n",
      "[5 rows x 24 columns]\n"
     ]
    }
   ],
   "source": [
    "# Mostrar las primeras filas del DataFrame\n",
    "print(\"\\nPrimeras filas del DataFrame:\")\n",
    "print(df.head())"
   ]
  },
  {
   "cell_type": "code",
   "execution_count": 6,
   "metadata": {},
   "outputs": [
    {
     "name": "stdout",
     "output_type": "stream",
     "text": [
      "\n",
      "Descripción estadística:\n",
      "            revenue       runtime  vote_average    vote_count\n",
      "count  4.546000e+04  45203.000000  45460.000000  45460.000000\n",
      "mean   1.120935e+07     94.128199      5.618207    109.897338\n",
      "std    6.433225e+07     38.407810      1.924216    491.310374\n",
      "min    0.000000e+00      0.000000      0.000000      0.000000\n",
      "25%    0.000000e+00     85.000000      5.000000      3.000000\n",
      "50%    0.000000e+00     95.000000      6.000000     10.000000\n",
      "75%    0.000000e+00    107.000000      6.800000     34.000000\n",
      "max    2.787965e+09   1256.000000     10.000000  14075.000000\n"
     ]
    }
   ],
   "source": [
    "# Descripción estadística de las columnas numéricas\n",
    "print(\"\\nDescripción estadística:\")\n",
    "print(df.describe())"
   ]
  },
  {
   "cell_type": "code",
   "execution_count": 7,
   "metadata": {},
   "outputs": [
    {
     "name": "stdout",
     "output_type": "stream",
     "text": [
      "\n",
      "Valores nulos por columna:\n",
      "adult                        0\n",
      "belongs_to_collection    40972\n",
      "budget                       0\n",
      "genres                       0\n",
      "homepage                 37684\n",
      "id                           0\n",
      "imdb_id                     17\n",
      "original_language           11\n",
      "original_title               0\n",
      "overview                   954\n",
      "popularity                   5\n",
      "poster_path                386\n",
      "production_companies         3\n",
      "production_countries         3\n",
      "release_date                87\n",
      "revenue                      6\n",
      "runtime                    263\n",
      "spoken_languages             6\n",
      "status                      87\n",
      "tagline                  25054\n",
      "title                        6\n",
      "video                        6\n",
      "vote_average                 6\n",
      "vote_count                   6\n",
      "dtype: int64\n",
      "\n",
      "Tipos de datos de cada columna:\n",
      "adult                     object\n",
      "belongs_to_collection     object\n",
      "budget                    object\n",
      "genres                    object\n",
      "homepage                  object\n",
      "id                        object\n",
      "imdb_id                   object\n",
      "original_language         object\n",
      "original_title            object\n",
      "overview                  object\n",
      "popularity                object\n",
      "poster_path               object\n",
      "production_companies      object\n",
      "production_countries      object\n",
      "release_date              object\n",
      "revenue                  float64\n",
      "runtime                  float64\n",
      "spoken_languages          object\n",
      "status                    object\n",
      "tagline                   object\n",
      "title                     object\n",
      "video                     object\n",
      "vote_average             float64\n",
      "vote_count               float64\n",
      "dtype: object\n"
     ]
    }
   ],
   "source": [
    "# Mostrar la cantidad de valores nulos por columna\n",
    "print(\"\\nValores nulos por columna:\")\n",
    "print(df.isnull().sum())\n",
    "\n",
    "# Mostrar el tipo de datos de cada columna\n",
    "print(\"\\nTipos de datos de cada columna:\")\n",
    "print(df.dtypes)"
   ]
  },
  {
   "cell_type": "code",
   "execution_count": 8,
   "metadata": {},
   "outputs": [
    {
     "name": "stdout",
     "output_type": "stream",
     "text": [
      "0                      Toy Story\n",
      "1                        Jumanji\n",
      "2               Grumpier Old Men\n",
      "3              Waiting to Exhale\n",
      "4    Father of the Bride Part II\n",
      "Name: title, dtype: object\n"
     ]
    }
   ],
   "source": [
    "print(df['title'].head())  # Muestra las primeras 5 películas\n"
   ]
  },
  {
   "cell_type": "code",
   "execution_count": 9,
   "metadata": {},
   "outputs": [],
   "source": [
    "# 1. Desanidar columnas con diccionarios o listas\n",
    "def extract_name(value):\n",
    "    if pd.isna(value) or value == \"[]\" or value == \"{}\":\n",
    "        return None\n",
    "    try:\n",
    "        data = ast.literal_eval(value)\n",
    "        if isinstance(data, dict):\n",
    "            return data.get('name', None)\n",
    "        elif isinstance(data, list):\n",
    "            return ', '.join([item['name'] for item in data if 'name' in item])\n",
    "    except Exception as e:\n",
    "        return None\n",
    "    return None\n",
    "\n",
    "df['belongs_to_collection'] = df['belongs_to_collection'].apply(extract_name)\n",
    "df['production_companies'] = df['production_companies'].apply(extract_name)\n",
    "df['production_countries'] = df['production_countries'].apply(extract_name)\n",
    "df['genres'] = df['genres'].apply(extract_name)\n",
    "df['spoken_languages'] = df['spoken_languages'].apply(extract_name)\n",
    "\n"
   ]
  },
  {
   "cell_type": "code",
   "execution_count": 10,
   "metadata": {},
   "outputs": [],
   "source": [
    "\n",
    "# 2. Rellenar valores nulos en revenue y budget con 0\n",
    "df['revenue'] = df['revenue'].fillna(0)\n",
    "df['budget'] = df['budget'].fillna(0)\n"
   ]
  },
  {
   "cell_type": "code",
   "execution_count": 11,
   "metadata": {},
   "outputs": [],
   "source": [
    "\n",
    "# 3. Eliminar valores nulos en release_date\n",
    "df = df.dropna(subset=['release_date'])\n"
   ]
  },
  {
   "cell_type": "code",
   "execution_count": 12,
   "metadata": {},
   "outputs": [],
   "source": [
    "\n",
    "# 4. Formatear fechas y extraer el anio de estreno\n",
    "df['release_date'] = pd.to_datetime(df['release_date'], errors='coerce')\n",
    "df['release_year'] = df['release_date'].dt.year\n"
   ]
  },
  {
   "cell_type": "code",
   "execution_count": 13,
   "metadata": {},
   "outputs": [],
   "source": [
    "# Convertir 'revenue' y 'budget' a valores numéricos, reemplazando errores con 0\n",
    "df['revenue'] = pd.to_numeric(df['revenue'], errors='coerce').fillna(0)\n",
    "df['budget'] = pd.to_numeric(df['budget'], errors='coerce').fillna(0)\n",
    "\n",
    "# Crear la columna return\n",
    "df['return'] = df.apply(lambda row: row['revenue'] / row['budget'] if row['budget'] > 0 else 0, axis=1)\n"
   ]
  },
  {
   "cell_type": "code",
   "execution_count": 14,
   "metadata": {},
   "outputs": [],
   "source": [
    "# Verificar qué columnas existen antes de eliminarlas\n",
    "columns_to_drop = ['video', 'imdb_id', 'adult', 'original_title', 'poster_path', 'homepage']\n",
    "existing_columns = [col for col in columns_to_drop if col in df.columns]\n",
    "\n",
    "# Eliminar solo las columnas que existen\n",
    "df.drop(columns=existing_columns, inplace=True)\n"
   ]
  },
  {
   "cell_type": "code",
   "execution_count": 15,
   "metadata": {},
   "outputs": [
    {
     "name": "stdout",
     "output_type": "stream",
     "text": [
      "                         title  release_year                      genres  \\\n",
      "0                    Toy Story        1995.0   Animation, Comedy, Family   \n",
      "1                      Jumanji        1995.0  Adventure, Fantasy, Family   \n",
      "2             Grumpier Old Men        1995.0             Romance, Comedy   \n",
      "3            Waiting to Exhale        1995.0      Comedy, Drama, Romance   \n",
      "4  Father of the Bride Part II        1995.0                      Comedy   \n",
      "\n",
      "       budget      revenue     return popularity  vote_average  vote_count  \n",
      "0  30000000.0  373554033.0  12.451801  21.946943           7.7      5415.0  \n",
      "1  65000000.0  262797249.0   4.043035  17.015539           6.9      2413.0  \n",
      "2         0.0          0.0   0.000000    11.7129           6.5        92.0  \n",
      "3  16000000.0   81452156.0   5.090760   3.859495           6.1        34.0  \n",
      "4         0.0   76578911.0   0.000000   8.387519           5.7       173.0  \n",
      "<class 'pandas.core.frame.DataFrame'>\n",
      "Index: 45379 entries, 0 to 45465\n",
      "Data columns (total 9 columns):\n",
      " #   Column        Non-Null Count  Dtype  \n",
      "---  ------        --------------  -----  \n",
      " 0   title         45376 non-null  object \n",
      " 1   release_year  45376 non-null  float64\n",
      " 2   genres        42995 non-null  object \n",
      " 3   budget        45379 non-null  float64\n",
      " 4   revenue       45379 non-null  float64\n",
      " 5   return        45379 non-null  float64\n",
      " 6   popularity    45377 non-null  object \n",
      " 7   vote_average  45376 non-null  float64\n",
      " 8   vote_count    45376 non-null  float64\n",
      "dtypes: float64(6), object(3)\n",
      "memory usage: 3.5+ MB\n",
      "None\n",
      "       release_year        budget       revenue        return  vote_average  \\\n",
      "count  45376.000000  4.537900e+04  4.537900e+04  4.537900e+04  45376.000000   \n",
      "mean    1991.881193  4.232325e+06  1.122936e+07  6.599991e+02      5.624070   \n",
      "std       24.055360  1.743932e+07  6.438789e+07  7.469083e+04      1.915423   \n",
      "min     1874.000000  0.000000e+00  0.000000e+00  0.000000e+00      0.000000   \n",
      "25%     1978.000000  0.000000e+00  0.000000e+00  0.000000e+00      5.000000   \n",
      "50%     2001.000000  0.000000e+00  0.000000e+00  0.000000e+00      6.000000   \n",
      "75%     2010.000000  0.000000e+00  0.000000e+00  0.000000e+00      6.800000   \n",
      "max     2020.000000  3.800000e+08  2.787965e+09  1.239638e+07     10.000000   \n",
      "\n",
      "         vote_count  \n",
      "count  45376.000000  \n",
      "mean     110.096439  \n",
      "std      491.742894  \n",
      "min        0.000000  \n",
      "25%        3.000000  \n",
      "50%       10.000000  \n",
      "75%       34.000000  \n",
      "max    14075.000000  \n"
     ]
    }
   ],
   "source": [
    "# Seleccionar columnas clave para mostrar información\n",
    "important_columns = ['title', 'release_year', 'genres', 'budget', 'revenue', 'return', 'popularity', 'vote_average', 'vote_count']\n",
    "\n",
    "# Mostrar las primeras filas de las columnas importantes\n",
    "print(df[important_columns].head())\n",
    "\n",
    "# Mostrar información general de las columnas importantes\n",
    "print(df[important_columns].info())\n",
    "\n",
    "# Descripción estadística de las columnas numéricas importantes\n",
    "print(df[important_columns].describe())\n"
   ]
  },
  {
   "cell_type": "code",
   "execution_count": 45,
   "metadata": {},
   "outputs": [],
   "source": [
    "\n",
    "# Guardar el archivo limpio\n",
    "df.to_parquet('C:/Users/E B M/Documents/proyecto_mp/dataset_limpio/movies_dataset_cleaned.parquet', index=False)\n"
   ]
  }
 ],
 "metadata": {
  "kernelspec": {
   "display_name": "env",
   "language": "python",
   "name": "python3"
  },
  "language_info": {
   "codemirror_mode": {
    "name": "ipython",
    "version": 3
   },
   "file_extension": ".py",
   "mimetype": "text/x-python",
   "name": "python",
   "nbconvert_exporter": "python",
   "pygments_lexer": "ipython3",
   "version": "3.13.2"
  }
 },
 "nbformat": 4,
 "nbformat_minor": 2
}
